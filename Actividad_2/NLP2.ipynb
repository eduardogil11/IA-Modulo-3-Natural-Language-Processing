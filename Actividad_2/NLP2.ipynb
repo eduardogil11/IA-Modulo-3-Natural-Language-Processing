{
 "cells": [
  {
   "cell_type": "markdown",
   "metadata": {},
   "source": [
    "# Actividad NLP 2\n",
    "\n",
    "Mariana Castro Payns\n",
    "\n",
    "Marcela Ibarra Mora\n",
    "\n",
    "María de los Ángeles Arista Huerta\n",
    "\n",
    "Eduardo Rodríguez Gil\n",
    "\n",
    "Manolo Ramírez Pintor"
   ]
  },
  {
   "cell_type": "markdown",
   "metadata": {},
   "source": [
    "Para subir el accuracy del modelo, se modificaron el numero de layers, neuronas y se cambio la arquitectura RNN por una GRU"
   ]
  },
  {
   "cell_type": "code",
   "execution_count": 1,
   "metadata": {},
   "outputs": [
    {
     "name": "stderr",
     "output_type": "stream",
     "text": [
      "c:\\Users\\maria\\anaconda3\\envs\\tf-gpu1\\lib\\site-packages\\tqdm\\auto.py:22: TqdmWarning: IProgress not found. Please update jupyter and ipywidgets. See https://ipywidgets.readthedocs.io/en/stable/user_install.html\n",
      "  from .autonotebook import tqdm as notebook_tqdm\n"
     ]
    }
   ],
   "source": [
    "import numpy as np\n",
    "#PyTorch libraries\n",
    "import torch\n"
   ]
  },
  {
   "cell_type": "code",
   "execution_count": 2,
   "metadata": {},
   "outputs": [],
   "source": [
    "\n",
    "from torchtext.datasets import AG_NEWS\n",
    "from torch import nn\n",
    "from torch.nn import functional as F\n"
   ]
  },
  {
   "cell_type": "code",
   "execution_count": 3,
   "metadata": {},
   "outputs": [],
   "source": [
    "\n",
    "# Dataset and dataloader\n",
    "from torch.utils.data import DataLoader\n",
    "from torch.utils.data.dataset import random_split\n",
    "# Libraries to prepare the data\n",
    "from torchtext.data.utils import get_tokenizer\n",
    "from torchtext.vocab import build_vocab_from_iterator\n",
    "from torchtext.data.functional import to_map_style_dataset\n"
   ]
  },
  {
   "cell_type": "code",
   "execution_count": 4,
   "metadata": {},
   "outputs": [
    {
     "data": {
      "text/plain": [
       "True"
      ]
     },
     "execution_count": 4,
     "metadata": {},
     "output_type": "execute_result"
    }
   ],
   "source": [
    "torch.cuda.is_available()"
   ]
  },
  {
   "cell_type": "code",
   "execution_count": 5,
   "metadata": {},
   "outputs": [
    {
     "name": "stdout",
     "output_type": "stream",
     "text": [
      "cuda\n"
     ]
    }
   ],
   "source": [
    "device = torch.device('cuda' if torch.cuda.is_available() else 'cpu')\n",
    "print(device)"
   ]
  },
  {
   "cell_type": "code",
   "execution_count": 6,
   "metadata": {},
   "outputs": [],
   "source": [
    "train_dataset, test_dataset = AG_NEWS()"
   ]
  },
  {
   "cell_type": "code",
   "execution_count": 7,
   "metadata": {},
   "outputs": [
    {
     "data": {
      "text/plain": [
       "(3,\n",
       " \"Wall St. Bears Claw Back Into the Black (Reuters) Reuters - Short-sellers, Wall Street's dwindling\\\\band of ultra-cynics, are seeing green again.\")"
      ]
     },
     "execution_count": 7,
     "metadata": {},
     "output_type": "execute_result"
    }
   ],
   "source": [
    "next(iter(train_dataset))"
   ]
  },
  {
   "cell_type": "code",
   "execution_count": 8,
   "metadata": {},
   "outputs": [],
   "source": [
    "train_data, test_data = to_map_style_dataset(train_dataset), to_map_style_dataset(test_dataset)"
   ]
  },
  {
   "cell_type": "code",
   "execution_count": 9,
   "metadata": {},
   "outputs": [],
   "source": [
    "tokeniser = get_tokenizer('basic_english')"
   ]
  },
  {
   "cell_type": "code",
   "execution_count": 10,
   "metadata": {},
   "outputs": [],
   "source": [
    "def yield_tokens(data):\n",
    "    for _, text in data:\n",
    "        yield tokeniser(text)"
   ]
  },
  {
   "cell_type": "code",
   "execution_count": 11,
   "metadata": {},
   "outputs": [],
   "source": [
    "vocab = build_vocab_from_iterator(yield_tokens(train_dataset), specials=['<unk>'])\n",
    "vocab.set_default_index(vocab['<unk>'])"
   ]
  },
  {
   "cell_type": "code",
   "execution_count": 12,
   "metadata": {},
   "outputs": [
    {
     "data": {
      "text/plain": [
       "95811"
      ]
     },
     "execution_count": 12,
     "metadata": {},
     "output_type": "execute_result"
    }
   ],
   "source": [
    "len(vocab)"
   ]
  },
  {
   "cell_type": "code",
   "execution_count": 13,
   "metadata": {},
   "outputs": [
    {
     "name": "stdout",
     "output_type": "stream",
     "text": [
      "0 <unk>\n",
      "1 .\n",
      "2 the\n",
      "3 ,\n",
      "4 to\n",
      "5 a\n",
      "6 of\n",
      "7 in\n",
      "8 and\n",
      "9 s\n"
     ]
    }
   ],
   "source": [
    "for i in range(10):\n",
    "    print(i, vocab.lookup_token(i))"
   ]
  },
  {
   "cell_type": "code",
   "execution_count": 14,
   "metadata": {},
   "outputs": [
    {
     "name": "stdout",
     "output_type": "stream",
     "text": [
      "['welcome', 'to', 'te3007b'] [3314, 4, 0]\n"
     ]
    }
   ],
   "source": [
    "tokens = tokeniser('Welcome to TE3007B')\n",
    "print(tokens, vocab(tokens))"
   ]
  },
  {
   "cell_type": "code",
   "execution_count": 15,
   "metadata": {},
   "outputs": [],
   "source": [
    "NUM_TRAIN = int(len(train_data) * 0.9)\n",
    "NUM_VAL = len(train_data) - NUM_TRAIN"
   ]
  },
  {
   "cell_type": "code",
   "execution_count": 16,
   "metadata": {},
   "outputs": [
    {
     "data": {
      "text/plain": [
       "12000"
      ]
     },
     "execution_count": 16,
     "metadata": {},
     "output_type": "execute_result"
    }
   ],
   "source": [
    "NUM_VAL"
   ]
  },
  {
   "cell_type": "code",
   "execution_count": 17,
   "metadata": {},
   "outputs": [],
   "source": [
    "train_data, val_data = random_split(train_data, [NUM_TRAIN, NUM_VAL])\n"
   ]
  },
  {
   "cell_type": "code",
   "execution_count": 18,
   "metadata": {},
   "outputs": [
    {
     "data": {
      "text/plain": [
       "(108000, 12000, 7600)"
      ]
     },
     "execution_count": 18,
     "metadata": {},
     "output_type": "execute_result"
    }
   ],
   "source": [
    "len(train_data), len(val_data), len(test_data)"
   ]
  },
  {
   "cell_type": "code",
   "execution_count": 19,
   "metadata": {},
   "outputs": [],
   "source": [
    "max_tokens = 50"
   ]
  },
  {
   "cell_type": "code",
   "execution_count": 20,
   "metadata": {},
   "outputs": [],
   "source": [
    "def collate_batch(batch):\n",
    "    y, x = list(zip(*batch)) #*batch para numero variable de elementos\n",
    "    # create list with tokens \n",
    "    x = [vocab(tokeniser(text))for text in x]\n",
    "    # padding\n",
    "    x = [t + ([0]*(max_tokens - len(t))) if len(t) < max_tokens else t[:max_tokens] for t in x]\n",
    "    return torch.tensor(x, dtype=torch.long), torch.tensor(y, dtype=torch.long)-1 #para tener 0,1,2,3"
   ]
  },
  {
   "cell_type": "code",
   "execution_count": 21,
   "metadata": {},
   "outputs": [],
   "source": [
    "labels = ['World', 'Sports', 'Business', 'Sci/Tech']\n",
    "BATCH_SIZE = 1024"
   ]
  },
  {
   "cell_type": "code",
   "execution_count": 22,
   "metadata": {},
   "outputs": [],
   "source": [
    "# Data loaders \n",
    "train_loader = DataLoader(train_data, \n",
    "                        batch_size=BATCH_SIZE, \n",
    "                        collate_fn= collate_batch, \n",
    "                        shuffle=True)\n",
    "\n",
    "val_loader = DataLoader(val_data, \n",
    "                        batch_size=BATCH_SIZE, \n",
    "                        collate_fn= collate_batch, \n",
    "                        shuffle=True)\n",
    "\n",
    "test_loader = DataLoader(test_data, \n",
    "                        batch_size=BATCH_SIZE, \n",
    "                        collate_fn= collate_batch, \n",
    "                        shuffle=True)"
   ]
  },
  {
   "cell_type": "code",
   "execution_count": 23,
   "metadata": {},
   "outputs": [
    {
     "name": "stdout",
     "output_type": "stream",
     "text": [
      "0 torch.Size([1024, 50]) torch.Size([1024])\n",
      "1 torch.Size([1024, 50]) torch.Size([1024])\n",
      "2 torch.Size([1024, 50]) torch.Size([1024])\n",
      "3 torch.Size([1024, 50]) torch.Size([1024])\n",
      "4 torch.Size([1024, 50]) torch.Size([1024])\n",
      "5 torch.Size([1024, 50]) torch.Size([1024])\n",
      "6 torch.Size([1024, 50]) torch.Size([1024])\n",
      "7 torch.Size([432, 50]) torch.Size([432])\n"
     ]
    }
   ],
   "source": [
    "for i, (x,y) in enumerate(test_loader):\n",
    "    print(i, x.shape, y.shape)"
   ]
  },
  {
   "cell_type": "code",
   "execution_count": 24,
   "metadata": {},
   "outputs": [],
   "source": [
    "# Lets build our RNN\n",
    "EMBEDDING_SIZE = 300\n",
    "NEURONS = 300\n",
    "LAYES = 2\n",
    "NUM_CLASSES = 4"
   ]
  },
  {
   "cell_type": "code",
   "execution_count": 25,
   "metadata": {},
   "outputs": [],
   "source": [
    "class RNN_model(nn.Module):\n",
    "    def __init__(self, embed_size, hidden, layers, num_clases):\n",
    "        super().__init__()\n",
    "        self.embedding_layer = nn.Embedding(num_embeddings=len(vocab),\n",
    "                                            embedding_dim=embed_size)\n",
    "\n",
    "        self.rnn = nn.GRU(input_size=embed_size,\n",
    "                        hidden_size=hidden,\n",
    "                        num_layers = layers,\n",
    "                        batch_first = True)\n",
    "\n",
    "        self.fc = nn.Linear(in_features=hidden,\n",
    "                            out_features=num_clases)\n",
    "        \n",
    "        self.dropout = nn.Dropout(0.3)\n",
    "\n",
    "    def forward(self, x):\n",
    "        Vector_emb = self.embedding_layer(x)\n",
    "        y, h = self.rnn(Vector_emb)\n",
    "        return self.fc(y[:,-1])\n"
   ]
  },
  {
   "cell_type": "code",
   "execution_count": 26,
   "metadata": {},
   "outputs": [],
   "source": [
    "rnn_model = RNN_model(EMBEDDING_SIZE, NEURONS, LAYES, NUM_CLASSES)"
   ]
  },
  {
   "cell_type": "code",
   "execution_count": 27,
   "metadata": {},
   "outputs": [
    {
     "data": {
      "text/plain": [
       "RNN_model(\n",
       "  (embedding_layer): Embedding(95811, 300)\n",
       "  (rnn): GRU(300, 300, num_layers=2, batch_first=True)\n",
       "  (fc): Linear(in_features=300, out_features=4, bias=True)\n",
       "  (dropout): Dropout(p=0.3, inplace=False)\n",
       ")"
      ]
     },
     "execution_count": 27,
     "metadata": {},
     "output_type": "execute_result"
    }
   ],
   "source": [
    "rnn_model"
   ]
  },
  {
   "cell_type": "code",
   "execution_count": 28,
   "metadata": {},
   "outputs": [],
   "source": [
    "def accuracy(model, loader):\n",
    "    num_correct = 0\n",
    "    num_total = 0\n",
    "    model.eval()\n",
    "    model = model.to(device=device)\n",
    "    with torch.no_grad():\n",
    "        for x, y in loader:\n",
    "            x = x.to(device=device, dtype = torch.long)\n",
    "            y = y.to(device=device, dtype = torch.long)\n",
    "            scores = model(x)\n",
    "            _, preds = scores.max(dim=1)\n",
    "            num_correct += (preds == y).sum()\n",
    "            num_total += preds.size(0)\n",
    "        acc = float(num_correct)/num_total\n",
    "        return acc"
   ]
  },
  {
   "cell_type": "code",
   "execution_count": 29,
   "metadata": {},
   "outputs": [],
   "source": [
    "def train(model, optimizer, epochs = 100):\n",
    "    model = model.to(device=device)\n",
    "    for epoch in range(epochs):\n",
    "        for i, (x, y) in enumerate(train_loader):\n",
    "            model.train()\n",
    "            x = x.to(device=device, dtype=torch.long)\n",
    "            y = y.to(device=device, dtype=torch.long)\n",
    "            # Run model\n",
    "            score = model(x)\n",
    "            # compute cost\n",
    "            cost = F.cross_entropy(input=score, target=y)\n",
    "            # Fisrt gradient\n",
    "            optimizer.zero_grad()\n",
    "            # Compute gradeint\n",
    "            cost.backward()\n",
    "            # Update parameters\n",
    "            optimizer.step()\n",
    "        acc = accuracy(model, val_loader)\n",
    "        print(f'Epoch {epoch}, costo {cost.item():.4f}, val_acc {acc:.4f}')"
   ]
  },
  {
   "cell_type": "code",
   "execution_count": 30,
   "metadata": {},
   "outputs": [],
   "source": [
    "epochs = 15\n",
    "lr = 0.0001\n",
    "\n",
    "rnn_model = RNN_model(EMBEDDING_SIZE, NEURONS, LAYES, NUM_CLASSES)\n",
    "optimizer = torch.optim.Adam(rnn_model.parameters(), lr=lr)"
   ]
  },
  {
   "cell_type": "code",
   "execution_count": 31,
   "metadata": {},
   "outputs": [
    {
     "name": "stdout",
     "output_type": "stream",
     "text": [
      "Epoch 0, costo 1.2854, val_acc 0.4064\n",
      "Epoch 1, costo 0.6514, val_acc 0.7508\n",
      "Epoch 2, costo 0.4784, val_acc 0.8413\n",
      "Epoch 3, costo 0.3608, val_acc 0.8710\n",
      "Epoch 4, costo 0.2831, val_acc 0.8787\n",
      "Epoch 5, costo 0.3638, val_acc 0.8877\n",
      "Epoch 6, costo 0.3170, val_acc 0.8903\n",
      "Epoch 7, costo 0.2771, val_acc 0.8953\n",
      "Epoch 8, costo 0.2554, val_acc 0.8976\n",
      "Epoch 9, costo 0.2453, val_acc 0.8989\n",
      "Epoch 10, costo 0.1967, val_acc 0.8964\n",
      "Epoch 11, costo 0.2260, val_acc 0.8998\n",
      "Epoch 12, costo 0.1260, val_acc 0.8992\n",
      "Epoch 13, costo 0.1617, val_acc 0.9042\n",
      "Epoch 14, costo 0.1267, val_acc 0.9008\n"
     ]
    }
   ],
   "source": [
    "train(rnn_model, optimizer, epochs)"
   ]
  }
 ],
 "metadata": {
  "kernelspec": {
   "display_name": "Python 3.9.15 ('tf-gpu1')",
   "language": "python",
   "name": "python3"
  },
  "language_info": {
   "codemirror_mode": {
    "name": "ipython",
    "version": 3
   },
   "file_extension": ".py",
   "mimetype": "text/x-python",
   "name": "python",
   "nbconvert_exporter": "python",
   "pygments_lexer": "ipython3",
   "version": "3.9.15"
  },
  "orig_nbformat": 4,
  "vscode": {
   "interpreter": {
    "hash": "379c5092b134c9207877fb6992e03f3b1911259d7942cf6972dcf7fd91787fd8"
   }
  }
 },
 "nbformat": 4,
 "nbformat_minor": 2
}
